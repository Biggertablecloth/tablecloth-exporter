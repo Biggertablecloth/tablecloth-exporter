{
  "nbformat": 4,
  "nbformat_minor": 0,
  "metadata": {
    "colab": {
      "name": "Update_Airtable_Records.ipynb",
      "provenance": [],
      "collapsed_sections": [],
      "mount_file_id": "1GkQTL107D9MHyQhVInubyPsH5-jdhRfX",
      "authorship_tag": "ABX9TyPN3v7mxSabKneJs5xjpAZE",
      "include_colab_link": true
    },
    "kernelspec": {
      "name": "python3",
      "display_name": "Python 3"
    },
    "language_info": {
      "name": "python"
    },
    "widgets": {
      "application/vnd.jupyter.widget-state+json": {
        "48f50206728c419cb3e5b3080cd92dba": {
          "model_module": "@jupyter-widgets/controls",
          "model_name": "HBoxModel",
          "state": {
            "_view_name": "HBoxView",
            "_dom_classes": [],
            "_model_name": "HBoxModel",
            "_view_module": "@jupyter-widgets/controls",
            "_model_module_version": "1.5.0",
            "_view_count": null,
            "_view_module_version": "1.5.0",
            "box_style": "",
            "layout": "IPY_MODEL_6e1eb89e27d740f78adc768edbcc7eb7",
            "_model_module": "@jupyter-widgets/controls",
            "children": [
              "IPY_MODEL_98ce29d333ad4d3294da9750141959da",
              "IPY_MODEL_d681dedd57904020a69ab6acd2d80ee6"
            ]
          }
        },
        "6e1eb89e27d740f78adc768edbcc7eb7": {
          "model_module": "@jupyter-widgets/base",
          "model_name": "LayoutModel",
          "state": {
            "_view_name": "LayoutView",
            "grid_template_rows": null,
            "right": null,
            "justify_content": null,
            "_view_module": "@jupyter-widgets/base",
            "overflow": null,
            "_model_module_version": "1.2.0",
            "_view_count": null,
            "flex_flow": null,
            "width": null,
            "min_width": null,
            "border": null,
            "align_items": null,
            "bottom": null,
            "_model_module": "@jupyter-widgets/base",
            "top": null,
            "grid_column": null,
            "overflow_y": null,
            "overflow_x": null,
            "grid_auto_flow": null,
            "grid_area": null,
            "grid_template_columns": null,
            "flex": null,
            "_model_name": "LayoutModel",
            "justify_items": null,
            "grid_row": null,
            "max_height": null,
            "align_content": null,
            "visibility": null,
            "align_self": null,
            "height": null,
            "min_height": null,
            "padding": null,
            "grid_auto_rows": null,
            "grid_gap": null,
            "max_width": null,
            "order": null,
            "_view_module_version": "1.2.0",
            "grid_template_areas": null,
            "object_position": null,
            "object_fit": null,
            "grid_auto_columns": null,
            "margin": null,
            "display": null,
            "left": null
          }
        },
        "98ce29d333ad4d3294da9750141959da": {
          "model_module": "@jupyter-widgets/controls",
          "model_name": "FloatProgressModel",
          "state": {
            "_view_name": "ProgressView",
            "style": "IPY_MODEL_2e23dab7dda2486e969dabb90045566a",
            "_dom_classes": [],
            "description": "100%",
            "_model_name": "FloatProgressModel",
            "bar_style": "success",
            "max": 833,
            "_view_module": "@jupyter-widgets/controls",
            "_model_module_version": "1.5.0",
            "value": 833,
            "_view_count": null,
            "_view_module_version": "1.5.0",
            "orientation": "horizontal",
            "min": 0,
            "description_tooltip": null,
            "_model_module": "@jupyter-widgets/controls",
            "layout": "IPY_MODEL_4ec205fdaff4485b922d6e3aa12d3e40"
          }
        },
        "d681dedd57904020a69ab6acd2d80ee6": {
          "model_module": "@jupyter-widgets/controls",
          "model_name": "HTMLModel",
          "state": {
            "_view_name": "HTMLView",
            "style": "IPY_MODEL_9cf34fd29f2b4c2e992706acd7a906e2",
            "_dom_classes": [],
            "description": "",
            "_model_name": "HTMLModel",
            "placeholder": "​",
            "_view_module": "@jupyter-widgets/controls",
            "_model_module_version": "1.5.0",
            "value": " 833/833 [04:27&lt;00:00,  3.11it/s]",
            "_view_count": null,
            "_view_module_version": "1.5.0",
            "description_tooltip": null,
            "_model_module": "@jupyter-widgets/controls",
            "layout": "IPY_MODEL_6a20071d00e64063a781342591786183"
          }
        },
        "2e23dab7dda2486e969dabb90045566a": {
          "model_module": "@jupyter-widgets/controls",
          "model_name": "ProgressStyleModel",
          "state": {
            "_view_name": "StyleView",
            "_model_name": "ProgressStyleModel",
            "description_width": "initial",
            "_view_module": "@jupyter-widgets/base",
            "_model_module_version": "1.5.0",
            "_view_count": null,
            "_view_module_version": "1.2.0",
            "bar_color": null,
            "_model_module": "@jupyter-widgets/controls"
          }
        },
        "4ec205fdaff4485b922d6e3aa12d3e40": {
          "model_module": "@jupyter-widgets/base",
          "model_name": "LayoutModel",
          "state": {
            "_view_name": "LayoutView",
            "grid_template_rows": null,
            "right": null,
            "justify_content": null,
            "_view_module": "@jupyter-widgets/base",
            "overflow": null,
            "_model_module_version": "1.2.0",
            "_view_count": null,
            "flex_flow": null,
            "width": null,
            "min_width": null,
            "border": null,
            "align_items": null,
            "bottom": null,
            "_model_module": "@jupyter-widgets/base",
            "top": null,
            "grid_column": null,
            "overflow_y": null,
            "overflow_x": null,
            "grid_auto_flow": null,
            "grid_area": null,
            "grid_template_columns": null,
            "flex": null,
            "_model_name": "LayoutModel",
            "justify_items": null,
            "grid_row": null,
            "max_height": null,
            "align_content": null,
            "visibility": null,
            "align_self": null,
            "height": null,
            "min_height": null,
            "padding": null,
            "grid_auto_rows": null,
            "grid_gap": null,
            "max_width": null,
            "order": null,
            "_view_module_version": "1.2.0",
            "grid_template_areas": null,
            "object_position": null,
            "object_fit": null,
            "grid_auto_columns": null,
            "margin": null,
            "display": null,
            "left": null
          }
        },
        "9cf34fd29f2b4c2e992706acd7a906e2": {
          "model_module": "@jupyter-widgets/controls",
          "model_name": "DescriptionStyleModel",
          "state": {
            "_view_name": "StyleView",
            "_model_name": "DescriptionStyleModel",
            "description_width": "",
            "_view_module": "@jupyter-widgets/base",
            "_model_module_version": "1.5.0",
            "_view_count": null,
            "_view_module_version": "1.2.0",
            "_model_module": "@jupyter-widgets/controls"
          }
        },
        "6a20071d00e64063a781342591786183": {
          "model_module": "@jupyter-widgets/base",
          "model_name": "LayoutModel",
          "state": {
            "_view_name": "LayoutView",
            "grid_template_rows": null,
            "right": null,
            "justify_content": null,
            "_view_module": "@jupyter-widgets/base",
            "overflow": null,
            "_model_module_version": "1.2.0",
            "_view_count": null,
            "flex_flow": null,
            "width": null,
            "min_width": null,
            "border": null,
            "align_items": null,
            "bottom": null,
            "_model_module": "@jupyter-widgets/base",
            "top": null,
            "grid_column": null,
            "overflow_y": null,
            "overflow_x": null,
            "grid_auto_flow": null,
            "grid_area": null,
            "grid_template_columns": null,
            "flex": null,
            "_model_name": "LayoutModel",
            "justify_items": null,
            "grid_row": null,
            "max_height": null,
            "align_content": null,
            "visibility": null,
            "align_self": null,
            "height": null,
            "min_height": null,
            "padding": null,
            "grid_auto_rows": null,
            "grid_gap": null,
            "max_width": null,
            "order": null,
            "_view_module_version": "1.2.0",
            "grid_template_areas": null,
            "object_position": null,
            "object_fit": null,
            "grid_auto_columns": null,
            "margin": null,
            "display": null,
            "left": null
          }
        }
      }
    }
  },
  "cells": [
    {
      "cell_type": "markdown",
      "metadata": {
        "id": "view-in-github",
        "colab_type": "text"
      },
      "source": [
        "<a href=\"https://colab.research.google.com/github/anushreechaudhuri/tablecloth-exporter/blob/main/Update_Airtable_Records.ipynb\" target=\"_parent\"><img src=\"https://colab.research.google.com/assets/colab-badge.svg\" alt=\"Open In Colab\"/></a>"
      ]
    },
    {
      "cell_type": "markdown",
      "metadata": {
        "id": "NNEuT6CwG9Cp"
      },
      "source": [
        "Imports the os module and specifies the directory path within Google Drive"
      ]
    },
    {
      "cell_type": "code",
      "metadata": {
        "id": "QOUvo-j1iSOz"
      },
      "source": [
        "import os\n",
        "path = '/content/drive/Shareddrives/Data/Dashboard Backup' #INSERT PATH TO DESIRED GOOGLE DRIVE FOLDER FOR PDF SAVING\n",
        "files = os.listdir(path)"
      ],
      "execution_count": null,
      "outputs": []
    },
    {
      "cell_type": "markdown",
      "metadata": {
        "id": "kHbfaoIkHIhv"
      },
      "source": [
        "Imports other necessary tools"
      ]
    },
    {
      "cell_type": "code",
      "metadata": {
        "id": "RH6DabdRi14o"
      },
      "source": [
        "from subprocess import getoutput\n",
        "from IPython.display import HTML\n",
        "!apt-get install xattr > /dev/null"
      ],
      "execution_count": null,
      "outputs": []
    },
    {
      "cell_type": "markdown",
      "metadata": {
        "id": "9hrX7ZdkHVqB"
      },
      "source": [
        "Creates a dataframe of the dashboard keys in one column and the shareable links to the corresponding pdfs in the second column"
      ]
    },
    {
      "cell_type": "code",
      "metadata": {
        "colab": {
          "base_uri": "https://localhost:8080/",
          "height": 67,
          "referenced_widgets": [
            "48f50206728c419cb3e5b3080cd92dba",
            "6e1eb89e27d740f78adc768edbcc7eb7",
            "98ce29d333ad4d3294da9750141959da",
            "d681dedd57904020a69ab6acd2d80ee6",
            "2e23dab7dda2486e969dabb90045566a",
            "4ec205fdaff4485b922d6e3aa12d3e40",
            "9cf34fd29f2b4c2e992706acd7a906e2",
            "6a20071d00e64063a781342591786183"
          ]
        },
        "id": "8hg0SS0bi5Eg",
        "outputId": "f98a215f-ac15-4145-d3a0-da42911a5c0e"
      },
      "source": [
        "from tqdm.auto import tqdm\n",
        "d = {\n",
        "    'ids': [],\n",
        "    'urls': []\n",
        "}\n",
        "for pdf in tqdm(files):\n",
        "  fid = getoutput(f\"xattr -p 'user.drive.id' '{path}/{pdf}' \")\n",
        "  d['ids'].append(pdf.replace('.pdf', ''))\n",
        "  d['urls'].append(f'https://drive.google.com/file/d/{fid}/view')"
      ],
      "execution_count": null,
      "outputs": [
        {
          "output_type": "display_data",
          "data": {
            "application/vnd.jupyter.widget-view+json": {
              "model_id": "48f50206728c419cb3e5b3080cd92dba",
              "version_minor": 0,
              "version_major": 2
            },
            "text/plain": [
              "HBox(children=(FloatProgress(value=0.0, max=833.0), HTML(value='')))"
            ]
          },
          "metadata": {
            "tags": []
          }
        },
        {
          "output_type": "stream",
          "text": [
            "\n"
          ],
          "name": "stdout"
        }
      ]
    },
    {
      "cell_type": "markdown",
      "metadata": {
        "id": "7yt4iVT5HwCC"
      },
      "source": [
        "Exports the ids and urls as a tsv"
      ]
    },
    {
      "cell_type": "code",
      "metadata": {
        "id": "cAaikJV2jCJt"
      },
      "source": [
        "import pandas as pd\n",
        "\n",
        "df = pd.DataFrame(d)\n",
        "df.to_csv('urls.tsv', sep='\\t', index=False)"
      ],
      "execution_count": null,
      "outputs": []
    },
    {
      "cell_type": "markdown",
      "metadata": {
        "id": "y9lPmqzLIQxi"
      },
      "source": [
        "You can find the tsv in the \"Files\" icon on the left. If you don't see it, hit refresh. Download and open the tsv, copy its contents, and paste into the second sheet of this spreadsheet. "
      ]
    }
  ]
}